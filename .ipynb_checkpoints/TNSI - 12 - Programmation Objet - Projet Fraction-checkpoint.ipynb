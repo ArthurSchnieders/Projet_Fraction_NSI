{
 "cells": [
  {
   "cell_type": "markdown",
   "metadata": {},
   "source": [
    "# <center><font color=blue>Programmation objet : Projet Fraction</font></center>"
   ]
  },
  {
   "cell_type": "markdown",
   "metadata": {},
   "source": [
    "##### Créer une classe `Fraction` qui gère la simplification et les opérations.\n"
   ]
  },
  {
   "cell_type": "markdown",
   "metadata": {},
   "source": [
    "**Cahier des charges :**  \n",
    "\n",
    "- On doit créer une classe Fraction dont les instances auront les attributs numerateur et denominateur(celui-ci ne pourra être nul...) et des méthodes pour :  \n",
    "    - Simplifier la fraction et normaliser son écriture  \n",
    "    - Additionner deux fractions  \n",
    "    - Soustraire deux fractions  \n",
    "    - Multiplier et diviser deux fractions  \n",
    "    - Comparer deux fractions\n",
    "    - Calculer l'opposé (on définira la méthode spéciale `__neg__`)\n",
    "    - Calculer l'inverse (il n'y a pas de méthode spéciale)\n",
    "    - Calculer la puissance $n$ d'une fraction\n",
    "\n",
    "On utilisera pour cela les méthodes spéciales.  \n",
    "\n",
    "La fraction $\\dfrac{12}{-15}$ doit s’écrire $\\dfrac{−4}{5}$.  \n",
    "On a simplifié par le PGCD de 12 et 15 et transféré le signe au numérateur.  \n",
    "\n",
    "- Il faudra :\n",
    "    - Une fonction qui calcule le PGCD  \n",
    "    - Une méthode pour simplifier et normaliser la fraction.  \n",
    "    \n",
    "- On écrira des tests pour s'assurer du bon fonctionnement de la classe `Fraction`"
   ]
  },
  {
   "cell_type": "code",
   "execution_count": 2,
   "metadata": {},
   "outputs": [],
   "source": [
    "def pgcd(a, b):\n",
    "    \"\"\"pgcd(a,b): calcul du 'Plus Grand Commun Diviseur' entre les 2 nombres entiers a et b\"\"\"\n",
    "    pass"
   ]
  },
  {
   "cell_type": "code",
   "execution_count": 3,
   "metadata": {},
   "outputs": [],
   "source": [
    "class Fraction:\n",
    "    def __init__(self, n, d):\n",
    "        pass\n",
    "    \n",
    "    def simp(self):\n",
    "        pass\n",
    "    \n",
    "    def __add__(self,other):\n",
    "        pass\n",
    "    \n",
    "    def __sub__(self,other):\n",
    "        pass\n",
    "    \n",
    "    def __(self,other):\n",
    "        pass\n",
    "    \n",
    "    def divide(self,other):\n",
    "        pass\n",
    "    \n",
    "    def compare"
   ]
  },
  {
   "cell_type": "markdown",
   "metadata": {},
   "source": [
    "#### Exercice"
   ]
  },
  {
   "cell_type": "markdown",
   "metadata": {},
   "source": [
    "Le nombre d’Euler : $e = 2,718281....$ vérifie l’égalité suivante :  \n",
    "$e − 1 =\\dfrac{1}{1} + \\dfrac{1}{1 \\times 2} + \\dfrac{1}{1 \\times 2 \\times 3} + ... + \\dfrac{1}{1 \\times 2 \\times 3 \\times ... \\times n} + ...$  \n",
    "En utilisant la classe Fraction, écrire une fonction `nombre_euler(n)` qui retourne une fraction qui permet d’obtenir une approximation de e."
   ]
  },
  {
   "cell_type": "code",
   "execution_count": 4,
   "metadata": {},
   "outputs": [],
   "source": [
    "# euler\n",
    "def nombre_euler(n):\n",
    "    pass"
   ]
  },
  {
   "cell_type": "code",
   "execution_count": 8,
   "metadata": {},
   "outputs": [
    {
     "name": "stdout",
     "output_type": "stream",
     "text": [
      "5/2\n"
     ]
    }
   ],
   "source": [
    "print(nombre_euler(3))"
   ]
  },
  {
   "cell_type": "markdown",
   "metadata": {},
   "source": [
    "#### Exercice"
   ]
  },
  {
   "cell_type": "markdown",
   "metadata": {},
   "source": [
    "Toujours en utilisant la classe Fraction, écrire une fonction qui permet d’obtenir une fraction donnant une approximation du nombre pi par la formule :  \n",
    "$\\pi = 4 \\times \\left(1 - \\dfrac{1}{3} + \\dfrac{1}{5} - \\dfrac{1}{7} + \\dfrac{1}{9} - ... + \\dfrac{(-1)^n}{2n+1} + ... \\right)$"
   ]
  },
  {
   "cell_type": "code",
   "execution_count": 5,
   "metadata": {},
   "outputs": [],
   "source": [
    "#pi\n",
    "def frac_pi(n):\n",
    "    pass"
   ]
  },
  {
   "cell_type": "code",
   "execution_count": 21,
   "metadata": {},
   "outputs": [
    {
     "name": "stdout",
     "output_type": "stream",
     "text": [
      "263/315\n"
     ]
    }
   ],
   "source": [
    "print(frac_pi(5))"
   ]
  },
  {
   "cell_type": "code",
   "execution_count": null,
   "metadata": {},
   "outputs": [],
   "source": []
  }
 ],
 "metadata": {
  "kernelspec": {
   "display_name": "Python 3",
   "language": "python",
   "name": "python3"
  },
  "language_info": {
   "codemirror_mode": {
    "name": "ipython",
    "version": 3
   },
   "file_extension": ".py",
   "mimetype": "text/x-python",
   "name": "python",
   "nbconvert_exporter": "python",
   "pygments_lexer": "ipython3",
   "version": "3.8.3"
  }
 },
 "nbformat": 4,
 "nbformat_minor": 4
}
