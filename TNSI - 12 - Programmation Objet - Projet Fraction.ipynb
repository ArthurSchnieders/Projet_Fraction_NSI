{
 "cells": [
  {
   "cell_type": "markdown",
   "metadata": {},
   "source": [
    "# <center><font color=blue>Programmation objet : Projet Fraction</font></center>"
   ]
  },
  {
   "cell_type": "markdown",
   "metadata": {},
   "source": [
    "##### Créer une classe `Fraction` qui gère la simplification et les opérations.\n"
   ]
  },
  {
   "cell_type": "markdown",
   "metadata": {},
   "source": [
    "**Cahier des charges :**  \n",
    "\n",
    "- On doit créer une classe Fraction dont les instances auront les attributs numerateur et denominateur(celui-ci ne pourra être nul...) et des méthodes pour :  \n",
    "    - Simplifier la fraction et normaliser son écriture  \n",
    "    - Additionner deux fractions  \n",
    "    - Soustraire deux fractions  \n",
    "    - Multiplier et diviser deux fractions  \n",
    "    - Comparer deux fractions\n",
    "    - Calculer l'opposé (on définira la méthode spéciale `__neg__`)\n",
    "    - Calculer l'inverse (il n'y a pas de méthode spéciale)\n",
    "    - Calculer la puissance $n$ d'une fraction\n",
    "\n",
    "On utilisera pour cela les méthodes spéciales.  \n",
    "\n",
    "La fraction $\\dfrac{12}{-15}$ doit s’écrire $\\dfrac{−4}{5}$.  \n",
    "On a simplifié par le PGCD de 12 et 15 et transféré le signe au numérateur.  \n",
    "\n",
    "- Il faudra :\n",
    "    - Une fonction qui calcule le PGCD  \n",
    "    - Une méthode pour simplifier et normaliser la fraction.  \n",
    "    \n",
    "- On écrira des tests pour s'assurer du bon fonctionnement de la classe `Fraction`"
   ]
  },
  {
   "cell_type": "code",
   "execution_count": 2,
   "metadata": {},
   "outputs": [],
   "source": [
    "def pgcd(a, b):\n",
    "    \"\"\"pgcd(a,b): calcul du 'Plus Grand Commun Diviseur' entre les 2 nombres entiers a et b\"\"\"\n",
    "    pass"
   ]
  },
  {
   "cell_type": "code",
   "execution_count": 3,
   "metadata": {},
   "outputs": [],
   "source": [
    "def pgcd(a,b):\n",
    "    while b:\n",
    "        a,b = b,a%b\n",
    "    return a\n",
    "\n",
    "class Fraction:\n",
    "    def __init__(self, n, d):\n",
    "        self.n = n\n",
    "        self.d = d\n",
    "        if d == 0:\n",
    "            raise ValueException(\"denominateur égale à 0\")\n",
    "    \n",
    "    def __repr__(self):\n",
    "        return f\"{self.n}/{self.d}\"\n",
    "\n",
    "    def simp(self):\n",
    "        \"\"\"Permet de simplifier et normaliser une Fraction.\n",
    "        >>> str(Fraction(12,-15).simp()) == str(Fraction(-4,5))\n",
    "        True\n",
    "        \"\"\"\n",
    "        pgcdLocal = pgcd(self.n,self.d)\n",
    "        self.n = int(self.n/pgcdLocal)\n",
    "        self.d = int(self.d/pgcdLocal)\n",
    "        return Fraction(self.n,self.d)\n",
    "    def __add__(self,other):\n",
    "        \"\"\"Permet d'additionner deux objects de types Fraction ensemble.\n",
    "        >>> Fraction(2,3) + Fraction(4,6) == Fraction(4,3)\n",
    "        True\n",
    "        \"\"\"\n",
    "        self.n = self.n*other.d + other.n * self.d\n",
    "        self.d = self.d * other.d\n",
    "        return self.simp()\n",
    "    \n",
    "    def __sub__(self,other):\n",
    "        \"\"\"Permet de soustraire deux objects de types Fraction.\n",
    "        >>> Fraction(2,3) - Fraction(2,6) == Fraction(1,3)\n",
    "        True\n",
    "        \"\"\"\n",
    "        self.n = self.n*other.d - other.n * self.d\n",
    "        self.d = self.d * other.d\n",
    "        return self.simp()\n",
    "    \n",
    "    def __mul__(self,other):\n",
    "        \"\"\"Permet de multiplier deux objects de types Fraction.\n",
    "        >>> Fraction(2,3) * Fraction(2,6) == Fraction(2,9) \n",
    "        True\n",
    "        \"\"\"\n",
    "        self.n = self.n*other.n\n",
    "        self.d = self.d*other.d\n",
    "        return self.simp()\n",
    "    \n",
    "    def __truediv__(self,other):\n",
    "        \"\"\"Permet de diviser deux objects de types Fraction.\n",
    "        >>> Fraction(2,3) / Fraction(2,6) == Fraction(2,1) \n",
    "        True\n",
    "        \"\"\"\n",
    "        self.n = self.n*other.d\n",
    "        self.d = self.d*other.n\n",
    "        return self.simp()\n",
    "\n",
    "    def __eq__(self,other):\n",
    "        \"\"\"Permet de savoir si deux fractions sont egales.\n",
    "        >>> Fraction(4,8) == Fraction(1,2) \n",
    "        True\n",
    "        \"\"\"\n",
    "        selff = Fraction(self.n*other.d, self.d * other.d).simp()\n",
    "        otherr = Fraction(other.n*self.d, other.d * self.d).simp()\n",
    "        if selff.n == otherr.n :\n",
    "            return True\n",
    "        else:\n",
    "            return False\n",
    "\n",
    "    def __ge__(self, other):\n",
    "        \"\"\"Permet de savoir si une fraction est superieure ou egale a une autre.\n",
    "        >>> Fraction(7,8) >= Fraction(1,2) \n",
    "        True\n",
    "        >>> Fraction(1,2) >= Fraction(88,9)\n",
    "        False\n",
    "        \"\"\"\n",
    "        selff = Fraction(self.n*other.d, self.d * other.d).simp()\n",
    "        otherr = Fraction(other.n*self.d, other.d * self.d).simp()\n",
    "        if selff.n >= otherr.n:\n",
    "            return True\n",
    "        else:\n",
    "            return False\n",
    "            \n",
    "\n",
    "    def __neg__(self):\n",
    "        \"\"\"Retourne l'oppose d'une fraction\n",
    "        >>> -Fraction(4,5)\n",
    "        -4/5\n",
    "        \"\"\"\n",
    "        return Fraction(-self.n, self.d)\n",
    "\n",
    "    def inv(self):\n",
    "        \"\"\"Retourne l'inverse d'une fraction\n",
    "        >>> Fraction(1,2).inv()\n",
    "        2/1\"\"\"\n",
    "        return Fraction(self.d,self.n)\n",
    "\n",
    "    def puissance(self, n):\n",
    "        \"\"\"Calcule la puissance d'une fraction\n",
    "        >>> Fraction(4,5).puissance(2)\n",
    "        16/25\"\"\"\n",
    "        return Fraction(self.n**n,self.d**n).simp()\n"
   ]
  },
  {
   "cell_type": "markdown",
   "metadata": {},
   "source": [
    "#### Exercice"
   ]
  },
  {
   "cell_type": "markdown",
   "metadata": {},
   "source": [
    "Le nombre d’Euler : $e = 2,718281....$ vérifie l’égalité suivante :  \n",
    "$e − 1 =\\dfrac{1}{1} + \\dfrac{1}{1 \\times 2} + \\dfrac{1}{1 \\times 2 \\times 3} + ... + \\dfrac{1}{1 \\times 2 \\times 3 \\times ... \\times n} + ...$  \n",
    "En utilisant la classe Fraction, écrire une fonction `nombre_euler(n)` qui retourne une fraction qui permet d’obtenir une approximation de e."
   ]
  },
  {
   "cell_type": "code",
   "execution_count": 4,
   "metadata": {},
   "outputs": [],
   "source": [
    "from math import factorial\n",
    "# euler\n",
    "def nombre_euler(n):\n",
    "    e = Fraction(1,1)\n",
    "    for i in range(1,n):\n",
    "        e += Fraction(1,factorial(i))\n",
    "    return e "
   ]
  },
  {
   "cell_type": "code",
   "execution_count": 8,
   "metadata": {},
   "outputs": [
    {
     "name": "stdout",
     "output_type": "stream",
     "text": [
      "5/2\n"
     ]
    }
   ],
   "source": [
    "print(nombre_euler(3))"
   ]
  },
  {
   "cell_type": "markdown",
   "metadata": {},
   "source": [
    "#### Exercice"
   ]
  },
  {
   "cell_type": "markdown",
   "metadata": {},
   "source": [
    "Toujours en utilisant la classe Fraction, écrire une fonction qui permet d’obtenir une fraction donnant une approximation du nombre pi par la formule :  \n",
    "$\\pi = 4 \\times \\left(1 - \\dfrac{1}{3} + \\dfrac{1}{5} - \\dfrac{1}{7} + \\dfrac{1}{9} - ... + \\dfrac{(-1)^n}{2n+1} + ... \\right)$"
   ]
  },
  {
   "cell_type": "code",
   "execution_count": 5,
   "metadata": {},
   "outputs": [],
   "source": [
    "#pi\n",
    "def frac_pi(n):\n",
    "    pass"
   ]
  },
  {
   "cell_type": "code",
   "execution_count": 21,
   "metadata": {},
   "outputs": [
    {
     "name": "stdout",
     "output_type": "stream",
     "text": [
      "263/315\n"
     ]
    }
   ],
   "source": [
    "print(frac_pi(5))"
   ]
  },
  {
   "cell_type": "code",
   "execution_count": null,
   "metadata": {},
   "outputs": [],
   "source": []
  }
 ],
 "metadata": {
  "kernelspec": {
   "display_name": "Python 3",
   "language": "python",
   "name": "python3"
  },
  "language_info": {
   "codemirror_mode": {
    "name": "ipython",
    "version": 3
   },
   "file_extension": ".py",
   "mimetype": "text/x-python",
   "name": "python",
   "nbconvert_exporter": "python",
   "pygments_lexer": "ipython3",
   "version": "3.8.3"
  }
 },
 "nbformat": 4,
 "nbformat_minor": 4
}
